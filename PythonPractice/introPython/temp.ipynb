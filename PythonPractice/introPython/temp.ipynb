{
 "cells": [
  {
   "cell_type": "code",
   "execution_count": 11,
   "metadata": {},
   "outputs": [
    {
     "name": "stdout",
     "output_type": "stream",
     "text": [
      "hi\n"
     ]
    }
   ],
   "source": [
    "print('hi')"
   ]
  },
  {
   "cell_type": "code",
   "execution_count": 12,
   "metadata": {},
   "outputs": [],
   "source": [
    "a = 'ben is a baka'"
   ]
  },
  {
   "cell_type": "code",
   "execution_count": 13,
   "metadata": {},
   "outputs": [
    {
     "name": "stdout",
     "output_type": "stream",
     "text": [
      "ben is a baka\n"
     ]
    }
   ],
   "source": [
    "temp = None\n",
    "temp = a\n",
    "a = 'ben is a really big baka'\n",
    "a = temp \n",
    "print(a)"
   ]
  },
  {
   "cell_type": "code",
   "execution_count": 14,
   "metadata": {},
   "outputs": [
    {
     "name": "stdout",
     "output_type": "stream",
     "text": [
      "10\n",
      "9\n",
      "8\n",
      "7\n",
      "6\n",
      "5\n",
      "4\n",
      "3\n",
      "2\n",
      "1\n"
     ]
    }
   ],
   "source": [
    "for i in range(10, 0, -1) :\n",
    "    print(i)"
   ]
  },
  {
   "cell_type": "code",
   "execution_count": 34,
   "metadata": {},
   "outputs": [
    {
     "name": "stdout",
     "output_type": "stream",
     "text": [
      "0,b\n",
      "1,c\n",
      "2,d\n",
      "3,e\n",
      "4,f\n",
      "5,g\n"
     ]
    }
   ],
   "source": [
    "# squares = []\n",
    "# for i in range(10):\n",
    "#     squares.append(i**2)\n",
    "# squares\n",
    "\n",
    "chars = [\"b\", 'c', 'd', 'e', 'f', 'g']\n",
    "for i, char in enumerate(chars):\n",
    "   print(f'{i},{char}')\n",
    "\n",
    "\n"
   ]
  },
  {
   "cell_type": "code",
   "execution_count": 40,
   "metadata": {},
   "outputs": [
    {
     "name": "stdout",
     "output_type": "stream",
     "text": [
      "True\n"
     ]
    }
   ],
   "source": [
    "nums = [1,7,21,10]\n",
    "\n",
    "isTrue = None\n",
    "\n",
    "def has_lucky_number(nums):\n",
    "    \"\"\"Return whether the given list of numbers is lucky. A lucky list contains\n",
    "    at least one number divisible by 7.\n",
    "    \"\"\"\n",
    "    for num in nums:\n",
    "        \n",
    "        if num % 7 == 0:\n",
    "            return True\n",
    "        \n",
    "        \n",
    "    return False\n",
    "\n",
    "print(has_lucky_number(nums))"
   ]
  },
  {
   "cell_type": "code",
   "execution_count": 41,
   "metadata": {},
   "outputs": [
    {
     "name": "stdout",
     "output_type": "stream",
     "text": [
      "[False, True, True, False]\n"
     ]
    }
   ],
   "source": [
    "nums = [1,7,21,10]\n",
    "\n",
    "def hasLuckyNumber(nums):\n",
    "    res = []\n",
    "    for num in nums:\n",
    "        res.append(True) if num % 7 == 0 else res.append(False)\n",
    "    return res\n",
    "print(hasLuckyNumber(nums))"
   ]
  },
  {
   "cell_type": "code",
   "execution_count": 43,
   "metadata": {},
   "outputs": [
    {
     "name": "stdout",
     "output_type": "stream",
     "text": [
      "[False, False, True, True]\n"
     ]
    }
   ],
   "source": [
    "L, Thresh = [1, 2, 3, 4], 2\n",
    "def elementwise_greater_than(L, thresh):\n",
    "    L2 = []\n",
    "    for i in L:\n",
    "        L2.append(True) if i > thresh else L2.append(False)\n",
    "        \n",
    "    return L2\n",
    "\n",
    "print(elementwise_greater_than(L, Thresh))"
   ]
  },
  {
   "cell_type": "code",
   "execution_count": 5,
   "metadata": {},
   "outputs": [
    {
     "name": "stdout",
     "output_type": "stream",
     "text": [
      "{'Mercury': 'M', 'Venus': 'V', 'Earth': 'E', 'Mars': 'M', 'Jupiter': 'J', 'Saturn': 'S', 'Uranus': 'U', 'Neptune': 'N'}\n"
     ]
    }
   ],
   "source": [
    "planets = ['Mercury', 'Venus', 'Earth', 'Mars', 'Jupiter', 'Saturn', 'Uranus', 'Neptune']\n",
    "planet_to_initial = {planet: planet[0] for planet in planets}\n",
    "planet_to_initial\n",
    "\n",
    "'Saturn' in planet_to_initial\n",
    "\n",
    "if 'Neptune' in planet_to_initial :\n",
    "    print(planet_to_initial)"
   ]
  },
  {
   "cell_type": "markdown",
   "metadata": {},
   "source": [
    "<!-- def word_search(doc_list, keyword):\n",
    "    # list to hold the indices of matching documents\n",
    "    indices = [] \n",
    "    # Iterate through the indices (i) and elements (doc) of documents\n",
    "    for i, doc in enumerate(doc_list):\n",
    "        # Split the string doc into a list of words (according to whitespace)\n",
    "        tokens = doc.split()\n",
    "        # Make a transformed list where we 'normalize' each word to facilitate matching.\n",
    "        # Periods and commas are removed from the end of each word, and it's set to all lowercase.\n",
    "        normalized = [token.rstrip('.,').lower() for token in tokens]\n",
    "        # Is there a match? If so, update the list of matching indices.\n",
    "        if keyword.lower() in normalized:\n",
    "            indices.append(i)\n",
    "    return indices\n",
    " -->\n",
    "\n",
    "\n",
    "    def word_search(doc_list, keyword):\n",
    "    \"\"\"\n",
    "    Takes a list of documents (each document is a string) and a keyword. \n",
    "    Returns list of the index values into the original list for all documents \n",
    "    containing the keyword.\n",
    "\n",
    "    Example:\n",
    "    doc_list = [\"The Learn Python Challenge Casino.\", \"They bought a car\", \"Casinoville\"]\n",
    "    >>> word_search(doc_list, 'casino')\n",
    "    >>> [0]\n",
    "    \"\"\"\n",
    "    map = []\n",
    "    \n",
    "    for i, doc in enumerate(doc_list):\n",
    "        words = doc.split()\n",
    "        Words = [word.rstrip('.,').lower() for word in words]\n",
    "                              \n",
    "        if keyword.lower() in Words:\n",
    "            map.append(i)\n",
    "    \n",
    "    return map\n",
    "\n",
    "    \n",
    "    \n",
    "    def multi_word_search(documents, keywords):\n",
    "    indices = {}\n",
    "    for keyword in keywords:\n",
    "        indices[keyword] = word_search(doc_list, keyword)\n",
    "    return indices\n"
   ]
  }
 ],
 "metadata": {
  "kernelspec": {
   "display_name": "Python 3",
   "language": "python",
   "name": "python3"
  },
  "language_info": {
   "codemirror_mode": {
    "name": "ipython",
    "version": 3
   },
   "file_extension": ".py",
   "mimetype": "text/x-python",
   "name": "python",
   "nbconvert_exporter": "python",
   "pygments_lexer": "ipython3",
   "version": "3.10.0"
  }
 },
 "nbformat": 4,
 "nbformat_minor": 2
}
