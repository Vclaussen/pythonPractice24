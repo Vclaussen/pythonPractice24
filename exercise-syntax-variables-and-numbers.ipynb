{
 "cells": [
  {
   "cell_type": "markdown",
   "id": "49c82ae7",
   "metadata": {
    "papermill": {
     "duration": 0.00703,
     "end_time": "2024-05-13T01:14:22.247738",
     "exception": false,
     "start_time": "2024-05-13T01:14:22.240708",
     "status": "completed"
    },
    "tags": []
   },
   "source": [
    "**This notebook is an exercise in the [Python](https://www.kaggle.com/learn/python) course.  You can reference the tutorial at [this link](https://www.kaggle.com/colinmorris/hello-python).**\n",
    "\n",
    "---\n"
   ]
  },
  {
   "cell_type": "markdown",
   "id": "cfd4f2d0",
   "metadata": {
    "papermill": {
     "duration": 0.006145,
     "end_time": "2024-05-13T01:14:22.260933",
     "exception": false,
     "start_time": "2024-05-13T01:14:22.254788",
     "status": "completed"
    },
    "tags": []
   },
   "source": [
    "Welcome to your first set of Python coding problems.  If this is your first time using Kaggle Notebooks, welcome! \n",
    "\n",
    "Notebooks are composed of blocks (called \"cells\") of text and code. Each of these is editable, though you'll mainly be editing the code cells to answer some questions.\n",
    "\n",
    "To get started, try running the code cell below (by pressing the ► button, or clicking on the cell and pressing ctrl+enter on your keyboard)."
   ]
  },
  {
   "cell_type": "code",
   "execution_count": 1,
   "id": "054f9c1b",
   "metadata": {
    "execution": {
     "iopub.execute_input": "2024-05-13T01:14:22.275980Z",
     "iopub.status.busy": "2024-05-13T01:14:22.275230Z",
     "iopub.status.idle": "2024-05-13T01:14:22.286678Z",
     "shell.execute_reply": "2024-05-13T01:14:22.285819Z"
    },
    "papermill": {
     "duration": 0.022377,
     "end_time": "2024-05-13T01:14:22.289728",
     "exception": false,
     "start_time": "2024-05-13T01:14:22.267351",
     "status": "completed"
    },
    "tags": []
   },
   "outputs": [
    {
     "name": "stdout",
     "output_type": "stream",
     "text": [
      "You've successfully run some Python code\n",
      "Congratulations!\n"
     ]
    }
   ],
   "source": [
    "print(\"You've successfully run some Python code\")\n",
    "print(\"Congratulations!\")"
   ]
  },
  {
   "cell_type": "markdown",
   "id": "ba6e7477",
   "metadata": {
    "papermill": {
     "duration": 0.006291,
     "end_time": "2024-05-13T01:14:22.302757",
     "exception": false,
     "start_time": "2024-05-13T01:14:22.296466",
     "status": "completed"
    },
    "tags": []
   },
   "source": [
    "Try adding another line of code in the cell above and re-running it. \n",
    "\n",
    "Now let's get a little fancier:  Add a new code cell by clicking on an existing code cell, hitting the escape key, and then hitting the `a` or `b` key.  The `a` key will add a cell above the current cell, and `b` adds a cell below.\n",
    "\n",
    "Great! Now you know how to use Notebooks.\n",
    "\n",
    "Each hands-on exercise starts by setting up our feedback and code checking mechanism. Run the code cell below to do that. Then you'll be ready to move on to question 0."
   ]
  },
  {
   "cell_type": "code",
   "execution_count": 2,
   "id": "01fcf61a",
   "metadata": {
    "_kg_hide-input": true,
    "_kg_hide-output": true,
    "execution": {
     "iopub.execute_input": "2024-05-13T01:14:22.317773Z",
     "iopub.status.busy": "2024-05-13T01:14:22.317392Z",
     "iopub.status.idle": "2024-05-13T01:14:23.217884Z",
     "shell.execute_reply": "2024-05-13T01:14:23.216777Z"
    },
    "papermill": {
     "duration": 0.911,
     "end_time": "2024-05-13T01:14:23.220413",
     "exception": false,
     "start_time": "2024-05-13T01:14:22.309413",
     "status": "completed"
    },
    "tags": []
   },
   "outputs": [
    {
     "name": "stdout",
     "output_type": "stream",
     "text": [
      "Setup complete! You're ready to start question 0.\n"
     ]
    }
   ],
   "source": [
    "from learntools.core import binder; binder.bind(globals())\n",
    "from learntools.python.ex1 import *\n",
    "print(\"Setup complete! You're ready to start question 0.\")"
   ]
  },
  {
   "cell_type": "code",
   "execution_count": null,
   "id": "64cd0e1b",
   "metadata": {
    "papermill": {
     "duration": 0.006309,
     "end_time": "2024-05-13T01:14:23.233434",
     "exception": false,
     "start_time": "2024-05-13T01:14:23.227125",
     "status": "completed"
    },
    "tags": []
   },
   "outputs": [],
   "source": []
  },
  {
   "cell_type": "markdown",
   "id": "e25f7211",
   "metadata": {
    "papermill": {
     "duration": 0.007287,
     "end_time": "2024-05-13T01:14:23.247305",
     "exception": false,
     "start_time": "2024-05-13T01:14:23.240018",
     "status": "completed"
    },
    "tags": []
   },
   "source": [
    "# 0.\n",
    "\n",
    "*This is a silly question intended as an introduction to the format we use for hands-on exercises throughout all Kaggle courses.*\n",
    "\n",
    "**What is your favorite color? **\n",
    "\n",
    "To complete this question, create a variable called `color` in the cell below with an appropriate value. The function call `q0.check()` (which we've already provided in the cell below) will check your answer."
   ]
  },
  {
   "cell_type": "code",
   "execution_count": 3,
   "id": "22247215",
   "metadata": {
    "execution": {
     "iopub.execute_input": "2024-05-13T01:14:23.262389Z",
     "iopub.status.busy": "2024-05-13T01:14:23.261487Z",
     "iopub.status.idle": "2024-05-13T01:14:23.270967Z",
     "shell.execute_reply": "2024-05-13T01:14:23.269801Z"
    },
    "papermill": {
     "duration": 0.019306,
     "end_time": "2024-05-13T01:14:23.273060",
     "exception": false,
     "start_time": "2024-05-13T01:14:23.253754",
     "status": "completed"
    },
    "tags": []
   },
   "outputs": [
    {
     "data": {
      "application/javascript": [
       "parent.postMessage({\"jupyterEvent\": \"custom.exercise_interaction\", \"data\": {\"outcomeType\": 1, \"valueTowardsCompletion\": 0.25, \"interactionType\": 1, \"questionType\": 2, \"questionId\": \"0_ExerciseFormatTutorial\", \"learnToolsVersion\": \"0.3.4\", \"failureMessage\": \"\", \"exceptionClass\": \"\", \"trace\": \"\"}}, \"*\")"
      ],
      "text/plain": [
       "<IPython.core.display.Javascript object>"
      ]
     },
     "metadata": {},
     "output_type": "display_data"
    },
    {
     "data": {
      "text/markdown": [
       "<span style=\"color:#33cc33\">Correct:</span> What?! You got it right without needing a hint or anything? Drats. Well hey, you should still continue to the next step to get some practice asking for a hint and checking solutions. (Even though you obviously don't need any help here.)"
      ],
      "text/plain": [
       "Correct: What?! You got it right without needing a hint or anything? Drats. Well hey, you should still continue to the next step to get some practice asking for a hint and checking solutions. (Even though you obviously don't need any help here.)"
      ]
     },
     "metadata": {},
     "output_type": "display_data"
    }
   ],
   "source": [
    "color = 'blue'\n",
    "q0.check()"
   ]
  },
  {
   "cell_type": "markdown",
   "id": "546f2c1e",
   "metadata": {
    "papermill": {
     "duration": 0.006677,
     "end_time": "2024-05-13T01:14:23.286633",
     "exception": false,
     "start_time": "2024-05-13T01:14:23.279956",
     "status": "completed"
    },
    "tags": []
   },
   "source": [
    "Didn't get the right answer? How do you not even know your own favorite color?!\n",
    "\n",
    "Delete the `#` in the line below to make one of the lines run. You can choose between getting a hint or the full answer by choosing which line to remove the `#` from. \n",
    "\n",
    "Removing the `#` is called uncommenting, because it changes that line from a \"comment\" which Python doesn't run to code, which Python does run."
   ]
  },
  {
   "cell_type": "code",
   "execution_count": 4,
   "id": "6eb7c77f",
   "metadata": {
    "execution": {
     "iopub.execute_input": "2024-05-13T01:14:23.302173Z",
     "iopub.status.busy": "2024-05-13T01:14:23.301606Z",
     "iopub.status.idle": "2024-05-13T01:14:23.311684Z",
     "shell.execute_reply": "2024-05-13T01:14:23.310522Z"
    },
    "papermill": {
     "duration": 0.020297,
     "end_time": "2024-05-13T01:14:23.313732",
     "exception": false,
     "start_time": "2024-05-13T01:14:23.293435",
     "status": "completed"
    },
    "tags": []
   },
   "outputs": [
    {
     "data": {
      "application/javascript": [
       "parent.postMessage({\"jupyterEvent\": \"custom.exercise_interaction\", \"data\": {\"interactionType\": 2, \"questionType\": 2, \"questionId\": \"0_ExerciseFormatTutorial\", \"learnToolsVersion\": \"0.3.4\", \"valueTowardsCompletion\": 0.0, \"failureMessage\": \"\", \"exceptionClass\": \"\", \"trace\": \"\", \"outcomeType\": 4}}, \"*\")"
      ],
      "text/plain": [
       "<IPython.core.display.Javascript object>"
      ]
     },
     "metadata": {},
     "output_type": "display_data"
    },
    {
     "data": {
      "text/markdown": [
       "<span style=\"color:#3366cc\">Hint:</span> Your favorite color rhymes with *glue*."
      ],
      "text/plain": [
       "Hint: Your favorite color rhymes with *glue*."
      ]
     },
     "metadata": {},
     "output_type": "display_data"
    },
    {
     "data": {
      "application/javascript": [
       "parent.postMessage({\"jupyterEvent\": \"custom.exercise_interaction\", \"data\": {\"interactionType\": 3, \"questionType\": 2, \"questionId\": \"0_ExerciseFormatTutorial\", \"learnToolsVersion\": \"0.3.4\", \"valueTowardsCompletion\": 0.0, \"failureMessage\": \"\", \"exceptionClass\": \"\", \"trace\": \"\", \"outcomeType\": 4}}, \"*\")"
      ],
      "text/plain": [
       "<IPython.core.display.Javascript object>"
      ]
     },
     "metadata": {},
     "output_type": "display_data"
    },
    {
     "data": {
      "text/markdown": [
       "<span style=\"color:#33cc99\">Solution:</span> \n",
       "```python\n",
       "color = \"blue\"\n",
       "```"
      ],
      "text/plain": [
       "Solution: \n",
       "```python\n",
       "color = \"blue\"\n",
       "```"
      ]
     },
     "metadata": {},
     "output_type": "display_data"
    }
   ],
   "source": [
    "q0.hint()\n",
    "q0.solution()"
   ]
  },
  {
   "cell_type": "markdown",
   "id": "138ed0fb",
   "metadata": {
    "papermill": {
     "duration": 0.007121,
     "end_time": "2024-05-13T01:14:23.328252",
     "exception": false,
     "start_time": "2024-05-13T01:14:23.321131",
     "status": "completed"
    },
    "tags": []
   },
   "source": [
    "The upcoming questions work the same way. The only thing that will change are the question numbers. For the next question, you'll call `q1.check()`, `q1.hint()`, `q1.solution()`, for question 2, you'll call `q2.check()`, and so on."
   ]
  },
  {
   "cell_type": "markdown",
   "id": "69d0cd48",
   "metadata": {
    "papermill": {
     "duration": 0.007172,
     "end_time": "2024-05-13T01:14:23.342787",
     "exception": false,
     "start_time": "2024-05-13T01:14:23.335615",
     "status": "completed"
    },
    "tags": []
   },
   "source": [
    "<hr/>\n",
    "\n",
    "# 1.\n",
    "\n",
    "Complete the code below. In case it's helpful, here is the table of available arithmetic operations:\n",
    "\n",
    "\n",
    "\n",
    "| Operator     | Name           | Description                                            |\n",
    "|--------------|----------------|--------------------------------------------------------|\n",
    "| ``a + b``    | Addition       | Sum of ``a`` and ``b``                                 |\n",
    "| ``a - b``    | Subtraction    | Difference of ``a`` and ``b``                          |\n",
    "| ``a * b``    | Multiplication | Product of ``a`` and ``b``                             |\n",
    "| ``a / b``    | True division  | Quotient of ``a`` and ``b``                            |\n",
    "| ``a // b``   | Floor division | Quotient of ``a`` and ``b``, removing fractional parts |\n",
    "| ``a % b``    | Modulus        | Integer remainder after division of ``a`` by ``b``     |\n",
    "| ``a ** b``   | Exponentiation | ``a`` raised to the power of ``b``                     |\n",
    "| ``-a``       | Negation       | The negative of ``a``                                  |\n",
    "\n",
    "<span style=\"display:none\"></span>\n"
   ]
  },
  {
   "cell_type": "code",
   "execution_count": null,
   "id": "e30b48c4",
   "metadata": {
    "papermill": {
     "duration": 0.007056,
     "end_time": "2024-05-13T01:14:23.357218",
     "exception": false,
     "start_time": "2024-05-13T01:14:23.350162",
     "status": "completed"
    },
    "tags": []
   },
   "outputs": [],
   "source": []
  },
  {
   "cell_type": "code",
   "execution_count": 5,
   "id": "3839daec",
   "metadata": {
    "execution": {
     "iopub.execute_input": "2024-05-13T01:14:23.374301Z",
     "iopub.status.busy": "2024-05-13T01:14:23.373901Z",
     "iopub.status.idle": "2024-05-13T01:14:23.382422Z",
     "shell.execute_reply": "2024-05-13T01:14:23.381335Z"
    },
    "papermill": {
     "duration": 0.020004,
     "end_time": "2024-05-13T01:14:23.384643",
     "exception": false,
     "start_time": "2024-05-13T01:14:23.364639",
     "status": "completed"
    },
    "tags": []
   },
   "outputs": [
    {
     "data": {
      "application/javascript": [
       "parent.postMessage({\"jupyterEvent\": \"custom.exercise_interaction\", \"data\": {\"outcomeType\": 1, \"valueTowardsCompletion\": 0.25, \"interactionType\": 1, \"questionType\": 1, \"questionId\": \"1_CircleArea\", \"learnToolsVersion\": \"0.3.4\", \"failureMessage\": \"\", \"exceptionClass\": \"\", \"trace\": \"\"}}, \"*\")"
      ],
      "text/plain": [
       "<IPython.core.display.Javascript object>"
      ]
     },
     "metadata": {},
     "output_type": "display_data"
    },
    {
     "data": {
      "text/markdown": [
       "<span style=\"color:#33cc33\">Correct</span>"
      ],
      "text/plain": [
       "Correct"
      ]
     },
     "metadata": {},
     "output_type": "display_data"
    }
   ],
   "source": [
    "pi = 3.14159 # approximate\n",
    "diameter = 3\n",
    "\n",
    "# Create a variable called 'radius' equal to half the diameter\n",
    "____\n",
    "radius = diameter/2\n",
    "# Create a variable called 'area', using the formula for the area of a circle: pi times the radius squared\n",
    "____\n",
    "area = pi * radius**2\n",
    "# Check your answer\n",
    "q1.check()"
   ]
  },
  {
   "cell_type": "code",
   "execution_count": 6,
   "id": "53114f58",
   "metadata": {
    "execution": {
     "iopub.execute_input": "2024-05-13T01:14:23.401838Z",
     "iopub.status.busy": "2024-05-13T01:14:23.401430Z",
     "iopub.status.idle": "2024-05-13T01:14:23.409611Z",
     "shell.execute_reply": "2024-05-13T01:14:23.408511Z"
    },
    "papermill": {
     "duration": 0.019545,
     "end_time": "2024-05-13T01:14:23.411915",
     "exception": false,
     "start_time": "2024-05-13T01:14:23.392370",
     "status": "completed"
    },
    "tags": []
   },
   "outputs": [
    {
     "data": {
      "application/javascript": [
       "parent.postMessage({\"jupyterEvent\": \"custom.exercise_interaction\", \"data\": {\"interactionType\": 3, \"questionType\": 1, \"questionId\": \"1_CircleArea\", \"learnToolsVersion\": \"0.3.4\", \"valueTowardsCompletion\": 0.0, \"failureMessage\": \"\", \"exceptionClass\": \"\", \"trace\": \"\", \"outcomeType\": 4}}, \"*\")"
      ],
      "text/plain": [
       "<IPython.core.display.Javascript object>"
      ]
     },
     "metadata": {},
     "output_type": "display_data"
    },
    {
     "data": {
      "text/markdown": [
       "<span style=\"color:#33cc99\">Solution:</span> \n",
       "```python\n",
       "radius = diameter / 2\n",
       "area = pi * radius ** 2\n",
       "```"
      ],
      "text/plain": [
       "Solution: \n",
       "```python\n",
       "radius = diameter / 2\n",
       "area = pi * radius ** 2\n",
       "```"
      ]
     },
     "metadata": {},
     "output_type": "display_data"
    }
   ],
   "source": [
    "# Uncomment and run the lines below if you need help.\n",
    "#q1.hint()\n",
    "q1.solution()"
   ]
  },
  {
   "cell_type": "markdown",
   "id": "b9b3e2e8",
   "metadata": {
    "papermill": {
     "duration": 0.007772,
     "end_time": "2024-05-13T01:14:23.427882",
     "exception": false,
     "start_time": "2024-05-13T01:14:23.420110",
     "status": "completed"
    },
    "tags": []
   },
   "source": [
    "<hr/>\n",
    "\n",
    "# 2.\n",
    "\n",
    "Add code to the following cell to swap variables `a` and `b` (so that `a` refers to the object previously referred to by `b` and vice versa)."
   ]
  },
  {
   "cell_type": "code",
   "execution_count": 7,
   "id": "961676f3",
   "metadata": {
    "execution": {
     "iopub.execute_input": "2024-05-13T01:14:23.445669Z",
     "iopub.status.busy": "2024-05-13T01:14:23.445240Z",
     "iopub.status.idle": "2024-05-13T01:14:23.455148Z",
     "shell.execute_reply": "2024-05-13T01:14:23.453875Z"
    },
    "papermill": {
     "duration": 0.021408,
     "end_time": "2024-05-13T01:14:23.457366",
     "exception": false,
     "start_time": "2024-05-13T01:14:23.435958",
     "status": "completed"
    },
    "tags": []
   },
   "outputs": [
    {
     "data": {
      "application/javascript": [
       "parent.postMessage({\"jupyterEvent\": \"custom.exercise_interaction\", \"data\": {\"outcomeType\": 1, \"valueTowardsCompletion\": 0.25, \"interactionType\": 1, \"questionType\": 2, \"questionId\": \"2_VariableSwap\", \"learnToolsVersion\": \"0.3.4\", \"failureMessage\": \"\", \"exceptionClass\": \"\", \"trace\": \"\"}}, \"*\")"
      ],
      "text/plain": [
       "<IPython.core.display.Javascript object>"
      ]
     },
     "metadata": {},
     "output_type": "display_data"
    },
    {
     "data": {
      "text/markdown": [
       "<span style=\"color:#33cc33\">Correct:</span> \n",
       "\n",
       "The most straightforward solution is to use a third variable to temporarily store one of the old values. e.g.:\n",
       "\n",
       "    tmp = a\n",
       "    a = b\n",
       "    b = tmp\n",
       "\n",
       "If you've read lots of Python code, you might have seen the following trick to swap two variables in one line:\n",
       "\n",
       "    a, b = b, a\n",
       "\n",
       "We'll demystify this bit of Python magic later when we talk about *tuples*."
      ],
      "text/plain": [
       "Correct: \n",
       "\n",
       "The most straightforward solution is to use a third variable to temporarily store one of the old values. e.g.:\n",
       "\n",
       "    tmp = a\n",
       "    a = b\n",
       "    b = tmp\n",
       "\n",
       "If you've read lots of Python code, you might have seen the following trick to swap two variables in one line:\n",
       "\n",
       "    a, b = b, a\n",
       "\n",
       "We'll demystify this bit of Python magic later when we talk about *tuples*."
      ]
     },
     "metadata": {},
     "output_type": "display_data"
    }
   ],
   "source": [
    "########### Setup code - don't touch this part ######################\n",
    "# If you're curious, these are examples of lists. We'll talk about \n",
    "# them in depth a few lessons from now. For now, just know that they're\n",
    "# yet another type of Python object, like int or float.\n",
    "a = [1, 2, 3]\n",
    "b = [3, 2, 1]\n",
    "q2.store_original_ids()\n",
    "######################################################################\n",
    "\n",
    "# Your code goes here. Swap the values to which a and b refer.\n",
    "# If you get stuck, you can always uncomment one or both of the lines in\n",
    "a, b = b, a\n",
    "######################################################################\n",
    "\n",
    "# Check your answer\n",
    "q2.check()"
   ]
  },
  {
   "cell_type": "code",
   "execution_count": 8,
   "id": "ce7b720e",
   "metadata": {
    "execution": {
     "iopub.execute_input": "2024-05-13T01:14:23.476380Z",
     "iopub.status.busy": "2024-05-13T01:14:23.476031Z",
     "iopub.status.idle": "2024-05-13T01:14:23.484532Z",
     "shell.execute_reply": "2024-05-13T01:14:23.483473Z"
    },
    "papermill": {
     "duration": 0.020703,
     "end_time": "2024-05-13T01:14:23.486687",
     "exception": false,
     "start_time": "2024-05-13T01:14:23.465984",
     "status": "completed"
    },
    "tags": []
   },
   "outputs": [
    {
     "data": {
      "application/javascript": [
       "parent.postMessage({\"jupyterEvent\": \"custom.exercise_interaction\", \"data\": {\"interactionType\": 2, \"questionType\": 2, \"questionId\": \"2_VariableSwap\", \"learnToolsVersion\": \"0.3.4\", \"valueTowardsCompletion\": 0.0, \"failureMessage\": \"\", \"exceptionClass\": \"\", \"trace\": \"\", \"outcomeType\": 4}}, \"*\")"
      ],
      "text/plain": [
       "<IPython.core.display.Javascript object>"
      ]
     },
     "metadata": {},
     "output_type": "display_data"
    },
    {
     "data": {
      "text/markdown": [
       "<span style=\"color:#3366cc\">Hint:</span> Try using a third variable."
      ],
      "text/plain": [
       "Hint: Try using a third variable."
      ]
     },
     "metadata": {},
     "output_type": "display_data"
    }
   ],
   "source": [
    "q2.hint()"
   ]
  },
  {
   "cell_type": "code",
   "execution_count": 9,
   "id": "946453a5",
   "metadata": {
    "execution": {
     "iopub.execute_input": "2024-05-13T01:14:23.505281Z",
     "iopub.status.busy": "2024-05-13T01:14:23.504609Z",
     "iopub.status.idle": "2024-05-13T01:14:23.511230Z",
     "shell.execute_reply": "2024-05-13T01:14:23.510482Z"
    },
    "papermill": {
     "duration": 0.018409,
     "end_time": "2024-05-13T01:14:23.513449",
     "exception": false,
     "start_time": "2024-05-13T01:14:23.495040",
     "status": "completed"
    },
    "tags": []
   },
   "outputs": [
    {
     "data": {
      "application/javascript": [
       "parent.postMessage({\"jupyterEvent\": \"custom.exercise_interaction\", \"data\": {\"interactionType\": 3, \"questionType\": 2, \"questionId\": \"2_VariableSwap\", \"learnToolsVersion\": \"0.3.4\", \"valueTowardsCompletion\": 0.0, \"failureMessage\": \"\", \"exceptionClass\": \"\", \"trace\": \"\", \"outcomeType\": 4}}, \"*\")"
      ],
      "text/plain": [
       "<IPython.core.display.Javascript object>"
      ]
     },
     "metadata": {},
     "output_type": "display_data"
    },
    {
     "data": {
      "text/markdown": [
       "<span style=\"color:#33cc99\">Solution:</span> The most straightforward solution is to use a third variable to temporarily store one of the old values. e.g.:\n",
       "\n",
       "    tmp = a\n",
       "    a = b\n",
       "    b = tmp\n",
       "\n",
       "If you've read lots of Python code, you might have seen the following trick to swap two variables in one line:\n",
       "\n",
       "    a, b = b, a\n",
       "\n",
       "We'll demystify this bit of Python magic later when we talk about *tuples*."
      ],
      "text/plain": [
       "Solution: The most straightforward solution is to use a third variable to temporarily store one of the old values. e.g.:\n",
       "\n",
       "    tmp = a\n",
       "    a = b\n",
       "    b = tmp\n",
       "\n",
       "If you've read lots of Python code, you might have seen the following trick to swap two variables in one line:\n",
       "\n",
       "    a, b = b, a\n",
       "\n",
       "We'll demystify this bit of Python magic later when we talk about *tuples*."
      ]
     },
     "metadata": {},
     "output_type": "display_data"
    }
   ],
   "source": [
    "q2.solution()"
   ]
  },
  {
   "cell_type": "markdown",
   "id": "492bb061",
   "metadata": {
    "papermill": {
     "duration": 0.00871,
     "end_time": "2024-05-13T01:14:23.530849",
     "exception": false,
     "start_time": "2024-05-13T01:14:23.522139",
     "status": "completed"
    },
    "tags": []
   },
   "source": [
    "<hr/>\n",
    "\n",
    "# 3a.\n",
    "\n",
    "Add parentheses to the following expression so that it evaluates to 1."
   ]
  },
  {
   "cell_type": "code",
   "execution_count": 10,
   "id": "8430adab",
   "metadata": {
    "execution": {
     "iopub.execute_input": "2024-05-13T01:14:23.550718Z",
     "iopub.status.busy": "2024-05-13T01:14:23.550098Z",
     "iopub.status.idle": "2024-05-13T01:14:23.556641Z",
     "shell.execute_reply": "2024-05-13T01:14:23.555717Z"
    },
    "papermill": {
     "duration": 0.018678,
     "end_time": "2024-05-13T01:14:23.558788",
     "exception": false,
     "start_time": "2024-05-13T01:14:23.540110",
     "status": "completed"
    },
    "tags": []
   },
   "outputs": [
    {
     "data": {
      "text/plain": [
       "1"
      ]
     },
     "execution_count": 10,
     "metadata": {},
     "output_type": "execute_result"
    }
   ],
   "source": [
    "(5 - 3) // 2"
   ]
  },
  {
   "cell_type": "code",
   "execution_count": 11,
   "id": "3e15761f",
   "metadata": {
    "execution": {
     "iopub.execute_input": "2024-05-13T01:14:23.578114Z",
     "iopub.status.busy": "2024-05-13T01:14:23.577774Z",
     "iopub.status.idle": "2024-05-13T01:14:23.582055Z",
     "shell.execute_reply": "2024-05-13T01:14:23.581141Z"
    },
    "papermill": {
     "duration": 0.016628,
     "end_time": "2024-05-13T01:14:23.584341",
     "exception": false,
     "start_time": "2024-05-13T01:14:23.567713",
     "status": "completed"
    },
    "tags": []
   },
   "outputs": [],
   "source": [
    "#q3.a.hint()"
   ]
  },
  {
   "cell_type": "code",
   "execution_count": 12,
   "id": "156b6581",
   "metadata": {
    "execution": {
     "iopub.execute_input": "2024-05-13T01:14:23.604589Z",
     "iopub.status.busy": "2024-05-13T01:14:23.604214Z",
     "iopub.status.idle": "2024-05-13T01:14:23.612218Z",
     "shell.execute_reply": "2024-05-13T01:14:23.611245Z"
    },
    "papermill": {
     "duration": 0.020797,
     "end_time": "2024-05-13T01:14:23.614243",
     "exception": false,
     "start_time": "2024-05-13T01:14:23.593446",
     "status": "completed"
    },
    "tags": []
   },
   "outputs": [
    {
     "data": {
      "application/javascript": [
       "parent.postMessage({\"jupyterEvent\": \"custom.exercise_interaction\", \"data\": {\"interactionType\": 3, \"questionType\": 4, \"questionId\": \"3.1_ArithmeticParensEasy\", \"learnToolsVersion\": \"0.3.4\", \"valueTowardsCompletion\": 0.0, \"failureMessage\": \"\", \"exceptionClass\": \"\", \"trace\": \"\", \"outcomeType\": 4}}, \"*\")"
      ],
      "text/plain": [
       "<IPython.core.display.Javascript object>"
      ]
     },
     "metadata": {},
     "output_type": "display_data"
    },
    {
     "data": {
      "text/markdown": [
       "<span style=\"color:#33cc99\">Solution:</span> \n",
       "```python\n",
       "(5 - 3) // 2\n",
       "```"
      ],
      "text/plain": [
       "Solution: \n",
       "```python\n",
       "(5 - 3) // 2\n",
       "```"
      ]
     },
     "metadata": {},
     "output_type": "display_data"
    }
   ],
   "source": [
    "# Check your answer (Run this code cell to receive credit!)\n",
    "q3.a.solution()"
   ]
  },
  {
   "cell_type": "markdown",
   "id": "0de92599",
   "metadata": {
    "papermill": {
     "duration": 0.008812,
     "end_time": "2024-05-13T01:14:23.632180",
     "exception": false,
     "start_time": "2024-05-13T01:14:23.623368",
     "status": "completed"
    },
    "tags": []
   },
   "source": [
    "# 3b.  <span title=\"A bit spicy\" style=\"color: darkgreen \">🌶️</span>\n",
    "\n",
    "<small>Questions, like this one, marked a spicy pepper are a bit harder.</small>\n",
    "\n",
    "Add parentheses to the following expression so that it evaluates to 0."
   ]
  },
  {
   "cell_type": "code",
   "execution_count": 13,
   "id": "d3b73635",
   "metadata": {
    "execution": {
     "iopub.execute_input": "2024-05-13T01:14:23.651997Z",
     "iopub.status.busy": "2024-05-13T01:14:23.651670Z",
     "iopub.status.idle": "2024-05-13T01:14:23.657883Z",
     "shell.execute_reply": "2024-05-13T01:14:23.656829Z"
    },
    "papermill": {
     "duration": 0.018572,
     "end_time": "2024-05-13T01:14:23.659869",
     "exception": false,
     "start_time": "2024-05-13T01:14:23.641297",
     "status": "completed"
    },
    "tags": []
   },
   "outputs": [
    {
     "data": {
      "text/plain": [
       "2"
      ]
     },
     "execution_count": 13,
     "metadata": {},
     "output_type": "execute_result"
    }
   ],
   "source": [
    "8 - 3 * 2 - 1 + 1"
   ]
  },
  {
   "cell_type": "code",
   "execution_count": 14,
   "id": "f9a9321d",
   "metadata": {
    "execution": {
     "iopub.execute_input": "2024-05-13T01:14:23.680097Z",
     "iopub.status.busy": "2024-05-13T01:14:23.679765Z",
     "iopub.status.idle": "2024-05-13T01:14:23.683882Z",
     "shell.execute_reply": "2024-05-13T01:14:23.682930Z"
    },
    "papermill": {
     "duration": 0.0167,
     "end_time": "2024-05-13T01:14:23.685892",
     "exception": false,
     "start_time": "2024-05-13T01:14:23.669192",
     "status": "completed"
    },
    "tags": []
   },
   "outputs": [],
   "source": [
    "#q3.b.hint()"
   ]
  },
  {
   "cell_type": "code",
   "execution_count": 15,
   "id": "6e358f77",
   "metadata": {
    "execution": {
     "iopub.execute_input": "2024-05-13T01:14:23.706339Z",
     "iopub.status.busy": "2024-05-13T01:14:23.705629Z",
     "iopub.status.idle": "2024-05-13T01:14:23.713666Z",
     "shell.execute_reply": "2024-05-13T01:14:23.712945Z"
    },
    "papermill": {
     "duration": 0.020375,
     "end_time": "2024-05-13T01:14:23.715592",
     "exception": false,
     "start_time": "2024-05-13T01:14:23.695217",
     "status": "completed"
    },
    "tags": []
   },
   "outputs": [
    {
     "data": {
      "application/javascript": [
       "parent.postMessage({\"jupyterEvent\": \"custom.exercise_interaction\", \"data\": {\"interactionType\": 3, \"questionType\": 4, \"questionId\": \"3.2_ArithmeticParensHard\", \"learnToolsVersion\": \"0.3.4\", \"valueTowardsCompletion\": 0.0, \"failureMessage\": \"\", \"exceptionClass\": \"\", \"trace\": \"\", \"outcomeType\": 4}}, \"*\")"
      ],
      "text/plain": [
       "<IPython.core.display.Javascript object>"
      ]
     },
     "metadata": {},
     "output_type": "display_data"
    },
    {
     "data": {
      "text/markdown": [
       "<span style=\"color:#33cc99\">Solution:</span> `(8 - 3) * (2 - (1 + 1))` is one solution. There may be others."
      ],
      "text/plain": [
       "Solution: `(8 - 3) * (2 - (1 + 1))` is one solution. There may be others."
      ]
     },
     "metadata": {},
     "output_type": "display_data"
    }
   ],
   "source": [
    "# Check your answer (Run this code cell to receive credit!)\n",
    "q3.b.solution()"
   ]
  },
  {
   "cell_type": "markdown",
   "id": "9313adbe",
   "metadata": {
    "papermill": {
     "duration": 0.009412,
     "end_time": "2024-05-13T01:14:23.735199",
     "exception": false,
     "start_time": "2024-05-13T01:14:23.725787",
     "status": "completed"
    },
    "tags": []
   },
   "source": [
    "<hr/>\n",
    "\n",
    "# 4. \n",
    "Alice, Bob and Carol have agreed to pool their Halloween candy and split it evenly among themselves.\n",
    "For the sake of their friendship, any candies left over will be smashed. For example, if they collectively\n",
    "bring home 91 candies, they'll take 30 each and smash 1.\n",
    "\n",
    "Write an arithmetic expression below to calculate how many candies they must smash for a given haul."
   ]
  },
  {
   "cell_type": "code",
   "execution_count": 16,
   "id": "9ff45fb3",
   "metadata": {
    "execution": {
     "iopub.execute_input": "2024-05-13T01:14:23.756042Z",
     "iopub.status.busy": "2024-05-13T01:14:23.755663Z",
     "iopub.status.idle": "2024-05-13T01:14:23.763921Z",
     "shell.execute_reply": "2024-05-13T01:14:23.762930Z"
    },
    "papermill": {
     "duration": 0.021554,
     "end_time": "2024-05-13T01:14:23.766278",
     "exception": false,
     "start_time": "2024-05-13T01:14:23.744724",
     "status": "completed"
    },
    "tags": []
   },
   "outputs": [
    {
     "data": {
      "application/javascript": [
       "parent.postMessage({\"jupyterEvent\": \"custom.exercise_interaction\", \"data\": {\"outcomeType\": 1, \"valueTowardsCompletion\": 0.25, \"interactionType\": 1, \"questionType\": 1, \"questionId\": \"4_CandySplitting\", \"learnToolsVersion\": \"0.3.4\", \"failureMessage\": \"\", \"exceptionClass\": \"\", \"trace\": \"\"}}, \"*\")"
      ],
      "text/plain": [
       "<IPython.core.display.Javascript object>"
      ]
     },
     "metadata": {},
     "output_type": "display_data"
    },
    {
     "data": {
      "text/markdown": [
       "<span style=\"color:#33cc33\">Correct</span>"
      ],
      "text/plain": [
       "Correct"
      ]
     },
     "metadata": {},
     "output_type": "display_data"
    }
   ],
   "source": [
    "# Variables representing the number of candies collected by alice, bob, and carol\n",
    "alice_candies = 121\n",
    "bob_candies = 77\n",
    "carol_candies = 109\n",
    "\n",
    "# Your code goes here! Replace the right-hand side of this assignment with an expression\n",
    "# involving alice_candies, bob_candies, and carol_candies\n",
    "total = (alice_candies + bob_candies + carol_candies)\n",
    "to_smash = total % 3\n",
    "q4.check()"
   ]
  },
  {
   "cell_type": "code",
   "execution_count": 17,
   "id": "71694780",
   "metadata": {
    "execution": {
     "iopub.execute_input": "2024-05-13T01:14:23.788545Z",
     "iopub.status.busy": "2024-05-13T01:14:23.787604Z",
     "iopub.status.idle": "2024-05-13T01:14:23.800569Z",
     "shell.execute_reply": "2024-05-13T01:14:23.799488Z"
    },
    "papermill": {
     "duration": 0.02666,
     "end_time": "2024-05-13T01:14:23.802776",
     "exception": false,
     "start_time": "2024-05-13T01:14:23.776116",
     "status": "completed"
    },
    "tags": []
   },
   "outputs": [
    {
     "data": {
      "application/javascript": [
       "parent.postMessage({\"jupyterEvent\": \"custom.exercise_interaction\", \"data\": {\"interactionType\": 2, \"questionType\": 1, \"questionId\": \"4_CandySplitting\", \"learnToolsVersion\": \"0.3.4\", \"valueTowardsCompletion\": 0.0, \"failureMessage\": \"\", \"exceptionClass\": \"\", \"trace\": \"\", \"outcomeType\": 4}}, \"*\")"
      ],
      "text/plain": [
       "<IPython.core.display.Javascript object>"
      ]
     },
     "metadata": {},
     "output_type": "display_data"
    },
    {
     "data": {
      "text/markdown": [
       "<span style=\"color:#3366cc\">Hint 1:</span> You'll probably want to use the modulo operator, `%`.\n",
       "(For another hint, call `.hint(2)`)"
      ],
      "text/plain": [
       "Hint 1: You'll probably want to use the modulo operator, `%`.\n",
       "(For another hint, call `.hint(2)`)"
      ]
     },
     "metadata": {},
     "output_type": "display_data"
    },
    {
     "data": {
      "application/javascript": [
       "parent.postMessage({\"jupyterEvent\": \"custom.exercise_interaction\", \"data\": {\"interactionType\": 3, \"questionType\": 1, \"questionId\": \"4_CandySplitting\", \"learnToolsVersion\": \"0.3.4\", \"valueTowardsCompletion\": 0.0, \"failureMessage\": \"\", \"exceptionClass\": \"\", \"trace\": \"\", \"outcomeType\": 4}}, \"*\")"
      ],
      "text/plain": [
       "<IPython.core.display.Javascript object>"
      ]
     },
     "metadata": {},
     "output_type": "display_data"
    },
    {
     "data": {
      "text/markdown": [
       "<span style=\"color:#33cc99\">Solution:</span> \n",
       "```python\n",
       "(alice_candies + bob_candies + carol_candies) % 3\n",
       "```"
      ],
      "text/plain": [
       "Solution: \n",
       "```python\n",
       "(alice_candies + bob_candies + carol_candies) % 3\n",
       "```"
      ]
     },
     "metadata": {},
     "output_type": "display_data"
    }
   ],
   "source": [
    "q4.hint()\n",
    "q4.solution()"
   ]
  },
  {
   "cell_type": "markdown",
   "id": "8511938d",
   "metadata": {
    "papermill": {
     "duration": 0.009971,
     "end_time": "2024-05-13T01:14:23.823445",
     "exception": false,
     "start_time": "2024-05-13T01:14:23.813474",
     "status": "completed"
    },
    "tags": []
   },
   "source": [
    "# Keep Going\n",
    "\n",
    "Next up, you'll **[learn to write new functions and understand functions others write](https://www.kaggle.com/colinmorris/functions-and-getting-help)**. This will make you at least 10 times more productive as a Python programmer. "
   ]
  },
  {
   "cell_type": "markdown",
   "id": "4e9c5cb7",
   "metadata": {
    "papermill": {
     "duration": 0.010232,
     "end_time": "2024-05-13T01:14:23.844042",
     "exception": false,
     "start_time": "2024-05-13T01:14:23.833810",
     "status": "completed"
    },
    "tags": []
   },
   "source": [
    "---\n",
    "\n",
    "\n",
    "\n",
    "\n",
    "*Have questions or comments? Visit the [course discussion forum](https://www.kaggle.com/learn/python/discussion) to chat with other learners.*"
   ]
  }
 ],
 "metadata": {
  "kaggle": {
   "accelerator": "none",
   "dataSources": [],
   "isGpuEnabled": false,
   "isInternetEnabled": false,
   "language": "python",
   "sourceType": "notebook"
  },
  "kernelspec": {
   "display_name": "Python 3",
   "language": "python",
   "name": "python3"
  },
  "language_info": {
   "codemirror_mode": {
    "name": "ipython",
    "version": 3
   },
   "file_extension": ".py",
   "mimetype": "text/x-python",
   "name": "python",
   "nbconvert_exporter": "python",
   "pygments_lexer": "ipython3",
   "version": "3.10.13"
  },
  "learntools_metadata": {
   "lesson_index": 0,
   "type": "exercise"
  },
  "papermill": {
   "default_parameters": {},
   "duration": 4.794653,
   "end_time": "2024-05-13T01:14:24.274657",
   "environment_variables": {},
   "exception": null,
   "input_path": "__notebook__.ipynb",
   "output_path": "__notebook__.ipynb",
   "parameters": {},
   "start_time": "2024-05-13T01:14:19.480004",
   "version": "2.5.0"
  }
 },
 "nbformat": 4,
 "nbformat_minor": 5
}
